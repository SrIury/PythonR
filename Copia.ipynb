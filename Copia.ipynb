{
 "cells": [
  {
   "cell_type": "code",
   "execution_count": 6,
   "id": "dc0b88e8-dc40-4077-9834-5d0611857cb1",
   "metadata": {},
   "outputs": [],
   "source": [
    "# Abrir o explore\n",
    "\n",
    "import pyautogui\n",
    "import time\n",
    "\n",
    "pyautogui.hotkey(\"win\",\"e\")\n",
    "time.sleep(5)\n",
    "pyautogui.click(x=336, y=61)\n",
    "\n",
    "# Navegando até a pasta do arquivo\n",
    "\n",
    "pyautogui.write(r\"E:\\TeraBoxDownload\\CorelDRAW Graphics Suite 2022 v24.0.0.301\\CorelDRAW Graphics Suite 2022 v24.0.0.301\\Crack\")\n",
    "pyautogui.press(\"enter\")\n",
    "time.sleep(2)\n",
    "\n",
    "# Copiando o arquivo\n",
    "\n",
    "pyautogui.hotkey(\"ctrl\",\"a\")\n",
    "time.sleep(1)\n",
    "pyautogui.hotkey(\"ctrl\",\"c\")\n",
    "time.sleep(1)\n",
    "\n",
    "# Navegando até a pasta de destino para colar o arquivo\n",
    "\n",
    "pyautogui.click(x=1356, y=59)\n",
    "pyautogui.write(r\"C:\\Program Files\\Corel\\CorelDRAW Graphics Suite 2022\\Programs64\")\n",
    "pyautogui.press(\"enter\")\n",
    "time.sleep(2)\n",
    "\n",
    "# Colando o arquivo\n",
    "\n",
    "pyautogui.hotkey(\"ctrl\",\"v\")\n",
    "time.sleep(2)\n",
    "pyautogui.press(\"enter\")\n",
    "time.sleep(3)\n",
    "pyautogui.click(x=770, y=416)\n",
    "time.sleep(2)\n",
    "pyautogui.click(x=901, y=445)\n",
    "\n",
    "# Fechando pasta\n",
    "\n",
    "time.sleep(2)\n",
    "pyautogui.click(x=1896, y=11)\n"
   ]
  },
  {
   "cell_type": "code",
   "execution_count": 5,
   "id": "0e0a34bb-a7e1-40ec-a164-ebfb7b1f115c",
   "metadata": {},
   "outputs": [
    {
     "data": {
      "text/plain": [
       "Point(x=1896, y=11)"
      ]
     },
     "execution_count": 5,
     "metadata": {},
     "output_type": "execute_result"
    }
   ],
   "source": [
    "time.sleep(5)\n",
    "\n",
    "pyautogui.position()"
   ]
  }
 ],
 "metadata": {
  "kernelspec": {
   "display_name": "Python 3 (ipykernel)",
   "language": "python",
   "name": "python3"
  },
  "language_info": {
   "codemirror_mode": {
    "name": "ipython",
    "version": 3
   },
   "file_extension": ".py",
   "mimetype": "text/x-python",
   "name": "python",
   "nbconvert_exporter": "python",
   "pygments_lexer": "ipython3",
   "version": "3.12.4"
  }
 },
 "nbformat": 4,
 "nbformat_minor": 5
}
