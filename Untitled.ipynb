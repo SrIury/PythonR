{
 "cells": [
  {
   "cell_type": "code",
   "execution_count": 1,
   "id": "dc0b88e8-dc40-4077-9834-5d0611857cb1",
   "metadata": {},
   "outputs": [],
   "source": [
    "# Abrir o explore\n",
    "\n",
    "import pyautogui\n",
    "import pyperclip\n",
    "import time\n",
    "\n",
    "pyautogui.hotkey(\"win\",\"e\")\n",
    "\n"
   ]
  },
  {
   "cell_type": "code",
   "execution_count": null,
   "id": "0e0a34bb-a7e1-40ec-a164-ebfb7b1f115c",
   "metadata": {},
   "outputs": [],
   "source": []
  }
 ],
 "metadata": {
  "kernelspec": {
   "display_name": "Python 3 (ipykernel)",
   "language": "python",
   "name": "python3"
  },
  "language_info": {
   "codemirror_mode": {
    "name": "ipython",
    "version": 3
   },
   "file_extension": ".py",
   "mimetype": "text/x-python",
   "name": "python",
   "nbconvert_exporter": "python",
   "pygments_lexer": "ipython3",
   "version": "3.12.4"
  }
 },
 "nbformat": 4,
 "nbformat_minor": 5
}
